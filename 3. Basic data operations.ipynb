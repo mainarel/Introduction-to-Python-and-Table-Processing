{
 "cells": [
  {
   "cell_type": "code",
   "execution_count": 2,
   "metadata": {},
   "outputs": [],
   "source": [
    "import pandas as pd\n",
    "import seaborn as sns"
   ]
  },
  {
   "cell_type": "code",
   "execution_count": 81,
   "metadata": {},
   "outputs": [],
   "source": [
    "data = pd.read_csv(\"https://stepik.org/media/attachments/lesson/802033/students.csv\")"
   ]
  },
  {
   "cell_type": "markdown",
   "metadata": {},
   "source": [
    "## 3. Базовые операции с данными"
   ]
  },
  {
   "cell_type": "markdown",
   "metadata": {},
   "source": [
    "### 3.2 Пропуски в данных"
   ]
  },
  {
   "cell_type": "markdown",
   "metadata": {},
   "source": [
    "Cколько людей не захотели заполнять признак \"Children number\"?"
   ]
  },
  {
   "cell_type": "code",
   "execution_count": 11,
   "metadata": {},
   "outputs": [
    {
     "data": {
      "text/plain": [
       "Children number\n",
       "2.0       47\n",
       "0.0       37\n",
       "NaN       36\n",
       "1.0       34\n",
       "3.0       16\n",
       "2.5        4\n",
       "1.5        4\n",
       "4.0        3\n",
       "6.0        2\n",
       "5.0        1\n",
       "1024.0     1\n",
       "0.5        1\n",
       "Name: count, dtype: int64"
      ]
     },
     "execution_count": 11,
     "metadata": {},
     "output_type": "execute_result"
    }
   ],
   "source": [
    "data['Children number'].value_counts(dropna=False)"
   ]
  },
  {
   "cell_type": "markdown",
   "metadata": {},
   "source": [
    "Будем заполнять пропуски в признаке \"Вес\". Но не просто так. Разобьем нашу таблицу на две таблицы:\n",
    "\n",
    "females=(все женщины из исходной таблицы)\n",
    "\n",
    "males=(все мужчины из исходной таблицы)"
   ]
  },
  {
   "cell_type": "code",
   "execution_count": 18,
   "metadata": {},
   "outputs": [],
   "source": [
    "females = data[data[\"Sex\"] == \"женский\"].copy()\n",
    "males = data[data[\"Sex\"] == \"мужской\"].copy()"
   ]
  },
  {
   "cell_type": "markdown",
   "metadata": {},
   "source": [
    "Далее в таблице females заполните пропуски в столбце \"Вес\", записав туда средний вес женщин. В таблице males заполните пропуски в столбце \"Вес\", записав туда средний вес мужчин."
   ]
  },
  {
   "cell_type": "code",
   "execution_count": 20,
   "metadata": {},
   "outputs": [],
   "source": [
    "females[\"Weight\"] = females[\"Weight\"].fillna(females[\"Weight\"].mean())\n",
    "males[\"Weight\"] = males[\"Weight\"].fillna(males[\"Weight\"].mean())"
   ]
  },
  {
   "cell_type": "markdown",
   "metadata": {},
   "source": [
    "Далее объедините таблицы males и females в одну   \n",
    "Далее в таблице df_new подсчитайте средний вес людей"
   ]
  },
  {
   "cell_type": "code",
   "execution_count": 24,
   "metadata": {},
   "outputs": [
    {
     "data": {
      "text/plain": [
       "63.53201161071252"
      ]
     },
     "execution_count": 24,
     "metadata": {},
     "output_type": "execute_result"
    }
   ],
   "source": [
    "df_new = pd.concat([males, females])\n",
    "\n",
    "df_new[\"Weight\"].mean()"
   ]
  },
  {
   "cell_type": "markdown",
   "metadata": {},
   "source": [
    "Будем заполнять пропуски в признаке \"Желаемое число детей\" (\"Children number\"). Но не просто так. Разобьем нашу таблицу на две таблицы:\n",
    "\n",
    "singles=(все, у кого нет ни брата ни сестры)\n",
    "\n",
    "sublings=(все, кто не попал в таблицу singles)"
   ]
  },
  {
   "cell_type": "code",
   "execution_count": 26,
   "metadata": {},
   "outputs": [],
   "source": [
    "singles = data[data[\"Brother-sister\"] == \"нет ни брата ни сестры\"].copy()\n",
    "sublings = data[data[\"Brother-sister\"] != \"нет ни брата ни сестры\"].copy()"
   ]
  },
  {
   "cell_type": "code",
   "execution_count": 27,
   "metadata": {},
   "outputs": [
    {
     "name": "stdout",
     "output_type": "stream",
     "text": [
      "1.0\n",
      "2.0\n"
     ]
    }
   ],
   "source": [
    "print(singles['Children number'].median())\n",
    "print(sublings['Children number'].median())"
   ]
  },
  {
   "cell_type": "markdown",
   "metadata": {},
   "source": [
    "Далее в таблице singles заполните пропуски в столбце \"Children number\", записав туда медианное значение по этой таблице. Аналогично поступите с таблицей sublings. "
   ]
  },
  {
   "cell_type": "code",
   "execution_count": 29,
   "metadata": {},
   "outputs": [],
   "source": [
    "singles[\"Children number\"] = singles[\"Children number\"].fillna(\n",
    "    singles[\"Children number\"].median()\n",
    ")\n",
    "\n",
    "sublings[\"Children number\"] = sublings[\"Children number\"].fillna(\n",
    "    sublings[\"Children number\"].median()\n",
    ")"
   ]
  },
  {
   "cell_type": "markdown",
   "metadata": {},
   "source": [
    "Далее объедините таблицы singles и sublings в одну  \n",
    "Далее в таблице df_new подсчитайте медиану признака \"Children number\". "
   ]
  },
  {
   "cell_type": "code",
   "execution_count": 31,
   "metadata": {},
   "outputs": [
    {
     "data": {
      "text/plain": [
       "2.0"
      ]
     },
     "execution_count": 31,
     "metadata": {},
     "output_type": "execute_result"
    }
   ],
   "source": [
    "df_new = pd.concat([singles, sublings])\n",
    "\n",
    "df_new[\"Children number\"].median()"
   ]
  },
  {
   "cell_type": "markdown",
   "metadata": {},
   "source": [
    "### 3.3 Выбросы и аномалии"
   ]
  },
  {
   "cell_type": "markdown",
   "metadata": {},
   "source": [
    "Будем применять метод, который в лекциях назван \"Второй способ поиска выбросов\". \n",
    "\n",
    "Мы спрашивали у студентов, какой сейчас возраст у В.В. Путина (опрос проводился в сентябре 2022г). \n",
    "\n",
    "Результаты опроса показали, что некоторые студенты не проявили достаточного почтения к содержанию вопроса. Предлагается найти всех таких студентов с помощью \"Второго способа поиска выбросов\" и удалить их из таблицы в качестве наказания!\n",
    "\n",
    "Повторите действия из \"Второго способа поиска выбросов\" для признака \"Putin age\".\n",
    "\n",
    "Сколько студентов осталось после этого в нашей таблице? "
   ]
  },
  {
   "cell_type": "code",
   "execution_count": 32,
   "metadata": {},
   "outputs": [
    {
     "data": {
      "text/plain": [
       "count       186.000000\n",
       "mean        690.236559\n",
       "std        7360.321689\n",
       "min          42.000000\n",
       "25%          67.000000\n",
       "50%          69.000000\n",
       "75%          70.000000\n",
       "max      100000.000000\n",
       "Name: Putin age, dtype: float64"
      ]
     },
     "execution_count": 32,
     "metadata": {},
     "output_type": "execute_result"
    }
   ],
   "source": [
    "data[\"Putin age\"].describe()"
   ]
  },
  {
   "cell_type": "code",
   "execution_count": 35,
   "metadata": {},
   "outputs": [],
   "source": [
    "q1 = data[\"Putin age\"].describe().loc[\"25%\"]\n",
    "q3 = data[\"Putin age\"].describe().loc[\"75%\"]\n",
    "iqr = q3 - q1"
   ]
  },
  {
   "cell_type": "code",
   "execution_count": 38,
   "metadata": {},
   "outputs": [
    {
     "data": {
      "text/plain": [
       "(148, 48)"
      ]
     },
     "execution_count": 38,
     "metadata": {},
     "output_type": "execute_result"
    }
   ],
   "source": [
    "data[(data[\"Putin age\"] > q1 - 1.5 * iqr) & (data[\"Putin age\"] < q3 + 1.5 * iqr)].shape"
   ]
  },
  {
   "cell_type": "code",
   "execution_count": 39,
   "metadata": {},
   "outputs": [
    {
     "data": {
      "text/plain": [
       "69.0"
      ]
     },
     "execution_count": 39,
     "metadata": {},
     "output_type": "execute_result"
    }
   ],
   "source": [
    "data[(data[\"Putin age\"] > q1 - 1.5 * iqr) & (data[\"Putin age\"] < q3 + 1.5 * iqr)][\n",
    "    \"Putin age\"\n",
    "].median()"
   ]
  },
  {
   "cell_type": "markdown",
   "metadata": {},
   "source": [
    "### 3.4 Кластеризация"
   ]
  },
  {
   "cell_type": "code",
   "execution_count": 51,
   "metadata": {},
   "outputs": [],
   "source": [
    "from sklearn.cluster import KMeans"
   ]
  },
  {
   "cell_type": "code",
   "execution_count": 82,
   "metadata": {},
   "outputs": [],
   "source": [
    "df_cut = data.copy()[[\"Weight\", \"Growth\"]].dropna()"
   ]
  },
  {
   "cell_type": "code",
   "execution_count": 66,
   "metadata": {},
   "outputs": [
    {
     "name": "stderr",
     "output_type": "stream",
     "text": [
      "c:\\Users\\asus\\anaconda3\\Lib\\site-packages\\sklearn\\cluster\\_kmeans.py:1436: UserWarning: KMeans is known to have a memory leak on Windows with MKL, when there are less chunks than available threads. You can avoid it by setting the environment variable OMP_NUM_THREADS=1.\n",
      "  warnings.warn(\n"
     ]
    }
   ],
   "source": [
    "kMeans = KMeans(n_clusters=2, random_state=0, n_init=\"auto\")\n",
    "kMeans.fit(df_cut)\n",
    "df_cut[\"Label\"] = kMeans.labels_"
   ]
  },
  {
   "cell_type": "code",
   "execution_count": 67,
   "metadata": {},
   "outputs": [
    {
     "data": {
      "text/plain": [
       "<Axes: xlabel='Weight', ylabel='Growth'>"
      ]
     },
     "execution_count": 67,
     "metadata": {},
     "output_type": "execute_result"
    },
    {
     "data": {
      "image/png": "[encoded data removed]",
      "text/plain": [
       "<Figure size 640x480 with 1 Axes>"
      ]
     },
     "metadata": {},
     "output_type": "display_data"
    }
   ],
   "source": [
    "sns.scatterplot(data=df_cut, x=\"Weight\", y=\"Growth\", hue=\"Label\")"
   ]
  },
  {
   "cell_type": "code",
   "execution_count": 69,
   "metadata": {},
   "outputs": [
    {
     "name": "stderr",
     "output_type": "stream",
     "text": [
      "c:\\Users\\asus\\anaconda3\\Lib\\site-packages\\sklearn\\cluster\\_kmeans.py:1436: UserWarning: KMeans is known to have a memory leak on Windows with MKL, when there are less chunks than available threads. You can avoid it by setting the environment variable OMP_NUM_THREADS=1.\n",
      "  warnings.warn(\n"
     ]
    }
   ],
   "source": [
    "kMeans = KMeans(n_clusters=3, random_state=0, n_init=\"auto\")\n",
    "kMeans.fit(df_cut)\n",
    "df_cut[\"Label\"] = kMeans.labels_"
   ]
  },
  {
   "cell_type": "code",
   "execution_count": 70,
   "metadata": {},
   "outputs": [
    {
     "data": {
      "text/plain": [
       "<Axes: xlabel='Weight', ylabel='Growth'>"
      ]
     },
     "execution_count": 70,
     "metadata": {},
     "output_type": "execute_result"
    },
    {
     "data": {
      "image/png": "[encoded data removed]",
      "text/plain": [
       "<Figure size 640x480 with 1 Axes>"
      ]
     },
     "metadata": {},
     "output_type": "display_data"
    }
   ],
   "source": [
    "sns.scatterplot(data=df_cut, x=\"Weight\", y=\"Growth\", hue=\"Label\")"
   ]
  },
  {
   "cell_type": "markdown",
   "metadata": {},
   "source": [
    "Запустите алгоритм kmeans с параметрами n_clusters=2, random_state=1 (параметр random_state=1 нужен для того, чтобы у всех обучающихся был одинаковый ответ, без этого параметра ответы у разных людей могут быть разные).\n",
    "\n",
    "В окошко ответа запишите количество студентов, которым после кластеризации была присвоена метка 0."
   ]
  },
  {
   "cell_type": "code",
   "execution_count": 88,
   "metadata": {},
   "outputs": [
    {
     "name": "stderr",
     "output_type": "stream",
     "text": [
      "c:\\Users\\asus\\anaconda3\\Lib\\site-packages\\sklearn\\cluster\\_kmeans.py:1436: UserWarning: KMeans is known to have a memory leak on Windows with MKL, when there are less chunks than available threads. You can avoid it by setting the environment variable OMP_NUM_THREADS=1.\n",
      "  warnings.warn(\n"
     ]
    },
    {
     "data": {
      "text/plain": [
       "97"
      ]
     },
     "execution_count": 88,
     "metadata": {},
     "output_type": "execute_result"
    }
   ],
   "source": [
    "kMeans = KMeans(n_clusters=2, random_state=0, n_init=\"auto\")\n",
    "kMeans.fit(df_cut)\n",
    "df_cut[\"Label\"] = kMeans.labels_\n",
    "\n",
    "sum(df_cut['Label'] == 0)"
   ]
  }
 ],
 "metadata": {
  "kernelspec": {
   "display_name": "base",
   "language": "python",
   "name": "python3"
  },
  "language_info": {
   "codemirror_mode": {
    "name": "ipython",
    "version": 3
   },
   "file_extension": ".py",
   "mimetype": "text/x-python",
   "name": "python",
   "nbconvert_exporter": "python",
   "pygments_lexer": "ipython3",
   "version": "3.11.7"
  }
 },
 "nbformat": 4,
 "nbformat_minor": 2
}
