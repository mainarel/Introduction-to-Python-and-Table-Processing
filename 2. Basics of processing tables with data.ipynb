{
 "cells": [
  {
   "cell_type": "code",
   "execution_count": 1,
   "metadata": {},
   "outputs": [],
   "source": [
    "import pandas as pd"
   ]
  },
  {
   "cell_type": "markdown",
   "metadata": {},
   "source": [
    "## 2. Основы обработки таблиц с данными"
   ]
  },
  {
   "cell_type": "markdown",
   "metadata": {},
   "source": [
    "### 2.2 Операции со столбцами"
   ]
  },
  {
   "cell_type": "code",
   "execution_count": 2,
   "metadata": {},
   "outputs": [],
   "source": [
    "data = pd.read_csv(\"https://stepik.org/media/attachments/lesson/802033/students.csv\")"
   ]
  },
  {
   "cell_type": "code",
   "execution_count": 4,
   "metadata": {},
   "outputs": [
    {
     "data": {
      "text/html": [
       "<div>\n",
       "<style scoped>\n",
       "    .dataframe tbody tr th:only-of-type {\n",
       "        vertical-align: middle;\n",
       "    }\n",
       "\n",
       "    .dataframe tbody tr th {\n",
       "        vertical-align: top;\n",
       "    }\n",
       "\n",
       "    .dataframe thead th {\n",
       "        text-align: right;\n",
       "    }\n",
       "</style>\n",
       "<table border=\"1\" class=\"dataframe\">\n",
       "  <thead>\n",
       "    <tr style=\"text-align: right;\">\n",
       "      <th></th>\n",
       "      <th>Age</th>\n",
       "      <th>Growth</th>\n",
       "      <th>Shoe size</th>\n",
       "      <th>Course number</th>\n",
       "      <th>Year of birth</th>\n",
       "      <th>Friend number</th>\n",
       "      <th>Russian rating</th>\n",
       "      <th>Maths rating</th>\n",
       "      <th>Physics rating</th>\n",
       "      <th>Computer science rating</th>\n",
       "      <th>...</th>\n",
       "      <th>Social network duration min</th>\n",
       "      <th>Chocolate</th>\n",
       "      <th>City population</th>\n",
       "      <th>Strange people</th>\n",
       "      <th>Your insitute</th>\n",
       "      <th>Brother-sister</th>\n",
       "      <th>Plane seat</th>\n",
       "      <th>MIddle and index finger</th>\n",
       "      <th>Middle and ring finger</th>\n",
       "      <th>Middle and little finger</th>\n",
       "    </tr>\n",
       "  </thead>\n",
       "  <tbody>\n",
       "    <tr>\n",
       "      <th>3</th>\n",
       "      <td>19</td>\n",
       "      <td>168</td>\n",
       "      <td>38</td>\n",
       "      <td>2</td>\n",
       "      <td>2003</td>\n",
       "      <td>604</td>\n",
       "      <td>72</td>\n",
       "      <td>0</td>\n",
       "      <td>0</td>\n",
       "      <td>0</td>\n",
       "      <td>...</td>\n",
       "      <td>200</td>\n",
       "      <td>Баунти</td>\n",
       "      <td>900000.0</td>\n",
       "      <td>СоцГум</td>\n",
       "      <td>Юридический</td>\n",
       "      <td>есть сестра</td>\n",
       "      <td>У окна (пардон: у иллюминатора)</td>\n",
       "      <td>12</td>\n",
       "      <td>13.5</td>\n",
       "      <td>35.0</td>\n",
       "    </tr>\n",
       "    <tr>\n",
       "      <th>19</th>\n",
       "      <td>21</td>\n",
       "      <td>164</td>\n",
       "      <td>38</td>\n",
       "      <td>3</td>\n",
       "      <td>2001</td>\n",
       "      <td>526</td>\n",
       "      <td>79</td>\n",
       "      <td>79</td>\n",
       "      <td>72</td>\n",
       "      <td>78</td>\n",
       "      <td>...</td>\n",
       "      <td>180</td>\n",
       "      <td>Баунти</td>\n",
       "      <td>880000.0</td>\n",
       "      <td>Естественный (биология-химия-физика-технари)</td>\n",
       "      <td>Математический и ИТ</td>\n",
       "      <td>есть сестра</td>\n",
       "      <td>У окна (пардон: у иллюминатора)</td>\n",
       "      <td>2</td>\n",
       "      <td>1.0</td>\n",
       "      <td>4.0</td>\n",
       "    </tr>\n",
       "    <tr>\n",
       "      <th>136</th>\n",
       "      <td>18</td>\n",
       "      <td>173</td>\n",
       "      <td>40</td>\n",
       "      <td>2</td>\n",
       "      <td>2003</td>\n",
       "      <td>208</td>\n",
       "      <td>88</td>\n",
       "      <td>62</td>\n",
       "      <td>0</td>\n",
       "      <td>0</td>\n",
       "      <td>...</td>\n",
       "      <td>120</td>\n",
       "      <td>Сникерс</td>\n",
       "      <td>999999.0</td>\n",
       "      <td>СоцГум</td>\n",
       "      <td>Юридический</td>\n",
       "      <td>есть сестра</td>\n",
       "      <td>У окна (пардон: у иллюминатора)</td>\n",
       "      <td>5</td>\n",
       "      <td>10.0</td>\n",
       "      <td>20.0</td>\n",
       "    </tr>\n",
       "    <tr>\n",
       "      <th>56</th>\n",
       "      <td>21</td>\n",
       "      <td>163</td>\n",
       "      <td>38</td>\n",
       "      <td>37</td>\n",
       "      <td>2001</td>\n",
       "      <td>66</td>\n",
       "      <td>94</td>\n",
       "      <td>74</td>\n",
       "      <td>64</td>\n",
       "      <td>81</td>\n",
       "      <td>...</td>\n",
       "      <td>160</td>\n",
       "      <td>Милки Вей</td>\n",
       "      <td>800000.0</td>\n",
       "      <td>Математический и ИТ</td>\n",
       "      <td>Математический и ИТ</td>\n",
       "      <td>есть сестра</td>\n",
       "      <td>У окна (пардон: у иллюминатора)</td>\n",
       "      <td>11</td>\n",
       "      <td>7.0</td>\n",
       "      <td>30.0</td>\n",
       "    </tr>\n",
       "    <tr>\n",
       "      <th>112</th>\n",
       "      <td>18</td>\n",
       "      <td>183</td>\n",
       "      <td>44</td>\n",
       "      <td>1</td>\n",
       "      <td>2003</td>\n",
       "      <td>200</td>\n",
       "      <td>66</td>\n",
       "      <td>72</td>\n",
       "      <td>0</td>\n",
       "      <td>78</td>\n",
       "      <td>...</td>\n",
       "      <td>120</td>\n",
       "      <td>Сникерс</td>\n",
       "      <td>850000.0</td>\n",
       "      <td>Математический и ИТ</td>\n",
       "      <td>Математический и ИТ</td>\n",
       "      <td>есть сестра</td>\n",
       "      <td>У окна (пардон: у иллюминатора)</td>\n",
       "      <td>9</td>\n",
       "      <td>8.0</td>\n",
       "      <td>31.0</td>\n",
       "    </tr>\n",
       "  </tbody>\n",
       "</table>\n",
       "<p>5 rows × 48 columns</p>\n",
       "</div>"
      ],
      "text/plain": [
       "     Age  Growth  Shoe size  Course number  Year of birth  Friend number  \\\n",
       "3     19     168         38              2           2003            604   \n",
       "19    21     164         38              3           2001            526   \n",
       "136   18     173         40              2           2003            208   \n",
       "56    21     163         38             37           2001             66   \n",
       "112   18     183         44              1           2003            200   \n",
       "\n",
       "     Russian rating  Maths rating  Physics rating  Computer science rating  \\\n",
       "3                72             0               0                        0   \n",
       "19               79            79              72                       78   \n",
       "136              88            62               0                        0   \n",
       "56               94            74              64                       81   \n",
       "112              66            72               0                       78   \n",
       "\n",
       "     ...  Social network duration min  Chocolate  City population  \\\n",
       "3    ...                          200     Баунти         900000.0   \n",
       "19   ...                          180     Баунти         880000.0   \n",
       "136  ...                          120    Сникерс         999999.0   \n",
       "56   ...                          160  Милки Вей         800000.0   \n",
       "112  ...                          120    Сникерс         850000.0   \n",
       "\n",
       "                                   Strange people        Your insitute  \\\n",
       "3                                          СоцГум          Юридический   \n",
       "19   Естественный (биология-химия-физика-технари)  Математический и ИТ   \n",
       "136                                        СоцГум          Юридический   \n",
       "56                            Математический и ИТ  Математический и ИТ   \n",
       "112                           Математический и ИТ  Математический и ИТ   \n",
       "\n",
       "     Brother-sister                       Plane seat  MIddle and index finger  \\\n",
       "3       есть сестра  У окна (пардон: у иллюминатора)                       12   \n",
       "19      есть сестра  У окна (пардон: у иллюминатора)                        2   \n",
       "136     есть сестра  У окна (пардон: у иллюминатора)                        5   \n",
       "56      есть сестра  У окна (пардон: у иллюминатора)                       11   \n",
       "112     есть сестра  У окна (пардон: у иллюминатора)                        9   \n",
       "\n",
       "     Middle and ring finger  Middle and little finger  \n",
       "3                      13.5                      35.0  \n",
       "19                      1.0                       4.0  \n",
       "136                    10.0                      20.0  \n",
       "56                      7.0                      30.0  \n",
       "112                     8.0                      31.0  \n",
       "\n",
       "[5 rows x 48 columns]"
      ]
     },
     "execution_count": 4,
     "metadata": {},
     "output_type": "execute_result"
    }
   ],
   "source": [
    "data.sample(5)"
   ]
  },
  {
   "cell_type": "code",
   "execution_count": 5,
   "metadata": {},
   "outputs": [
    {
     "name": "stdout",
     "output_type": "stream",
     "text": [
      "<class 'pandas.core.frame.DataFrame'>\n",
      "RangeIndex: 186 entries, 0 to 185\n",
      "Data columns (total 48 columns):\n",
      " #   Column                       Non-Null Count  Dtype  \n",
      "---  ------                       --------------  -----  \n",
      " 0   Age                          186 non-null    int64  \n",
      " 1   Growth                       186 non-null    int64  \n",
      " 2   Shoe size                    186 non-null    int64  \n",
      " 3   Course number                186 non-null    int64  \n",
      " 4   Year of birth                186 non-null    int64  \n",
      " 5   Friend number                186 non-null    int64  \n",
      " 6   Russian rating               186 non-null    int64  \n",
      " 7   Maths rating                 186 non-null    int64  \n",
      " 8   Physics rating               186 non-null    int64  \n",
      " 9   Computer science rating      186 non-null    int64  \n",
      " 10  Chemistry rating             186 non-null    int64  \n",
      " 11  Literature rating            186 non-null    int64  \n",
      " 12  History rating               186 non-null    int64  \n",
      " 13  Geography rating             186 non-null    int64  \n",
      " 14  Biology rating               186 non-null    int64  \n",
      " 15  Foreign language rating      186 non-null    int64  \n",
      " 16  Social science rating        186 non-null    int64  \n",
      " 17  Distance to home km          186 non-null    int64  \n",
      " 18  Minutes to first class       186 non-null    int64  \n",
      " 19  Children number              150 non-null    float64\n",
      " 20  Removed teeth                148 non-null    float64\n",
      " 21  Weight                       157 non-null    float64\n",
      " 22  Glasses                      184 non-null    object \n",
      " 23  Sex                          186 non-null    object \n",
      " 24  Problems in last semester    186 non-null    object \n",
      " 25  Coin                         186 non-null    object \n",
      " 26  Rock paper scissors          186 non-null    object \n",
      " 27  Animal                       186 non-null    object \n",
      " 28  Month of birthday            186 non-null    int64  \n",
      " 29  Your rating in university    186 non-null    object \n",
      " 30  Fastfood                     186 non-null    object \n",
      " 31  Height of 5000 mm            186 non-null    int64  \n",
      " 32  Width of 5000 mm             186 non-null    int64  \n",
      " 33  Putin age                    186 non-null    int64  \n",
      " 34  Army                         186 non-null    object \n",
      " 35  Hostel                       186 non-null    object \n",
      " 36  Hair length                  186 non-null    float64\n",
      " 37  Floor number                 186 non-null    int64  \n",
      " 38  Social network duration min  186 non-null    int64  \n",
      " 39  Chocolate                    186 non-null    object \n",
      " 40  City population              186 non-null    float64\n",
      " 41  Strange people               186 non-null    object \n",
      " 42  Your insitute                186 non-null    object \n",
      " 43  Brother-sister               186 non-null    object \n",
      " 44  Plane seat                   186 non-null    object \n",
      " 45  MIddle and index finger      186 non-null    int64  \n",
      " 46  Middle and ring finger       186 non-null    float64\n",
      " 47  Middle and little finger     186 non-null    float64\n",
      "dtypes: float64(7), int64(26), object(15)\n",
      "memory usage: 69.9+ KB\n"
     ]
    }
   ],
   "source": [
    "data.info()"
   ]
  },
  {
   "cell_type": "markdown",
   "metadata": {},
   "source": [
    "Какой рост у человека с индексом 12 в таблице? "
   ]
  },
  {
   "cell_type": "code",
   "execution_count": 14,
   "metadata": {},
   "outputs": [
    {
     "data": {
      "text/plain": [
       "12    169\n",
       "Name: Growth, dtype: int64"
      ]
     },
     "execution_count": 14,
     "metadata": {},
     "output_type": "execute_result"
    }
   ],
   "source": [
    "data.iloc[[12]][\"Growth\"]"
   ]
  },
  {
   "cell_type": "markdown",
   "metadata": {},
   "source": [
    "Какой рост у восемнадцатого человека с конца таблицы?"
   ]
  },
  {
   "cell_type": "code",
   "execution_count": 16,
   "metadata": {},
   "outputs": [
    {
     "data": {
      "text/plain": [
       "168    161\n",
       "Name: Growth, dtype: int64"
      ]
     },
     "execution_count": 16,
     "metadata": {},
     "output_type": "execute_result"
    }
   ],
   "source": [
    "data.iloc[[-18]][\"Growth\"]"
   ]
  },
  {
   "cell_type": "markdown",
   "metadata": {},
   "source": [
    "Чему равно среднее значение веса студентов? Дать ответ с погрешностью 0,01"
   ]
  },
  {
   "cell_type": "code",
   "execution_count": 17,
   "metadata": {},
   "outputs": [
    {
     "data": {
      "text/plain": [
       "64.03184713375796"
      ]
     },
     "execution_count": 17,
     "metadata": {},
     "output_type": "execute_result"
    }
   ],
   "source": [
    "data[\"Weight\"].mean()"
   ]
  },
  {
   "cell_type": "markdown",
   "metadata": {},
   "source": [
    "Чему равно медианное значение веса студентов?"
   ]
  },
  {
   "cell_type": "code",
   "execution_count": 18,
   "metadata": {},
   "outputs": [
    {
     "data": {
      "text/plain": [
       "60.0"
      ]
     },
     "execution_count": 18,
     "metadata": {},
     "output_type": "execute_result"
    }
   ],
   "source": [
    "data[\"Weight\"].median()"
   ]
  },
  {
   "cell_type": "markdown",
   "metadata": {},
   "source": [
    "Чему равен вес самого \"лёгкого\" студента. Спойлер: у этого студента есть чувство юмора"
   ]
  },
  {
   "cell_type": "code",
   "execution_count": 19,
   "metadata": {},
   "outputs": [
    {
     "data": {
      "text/plain": [
       "3.0"
      ]
     },
     "execution_count": 19,
     "metadata": {},
     "output_type": "execute_result"
    }
   ],
   "source": [
    "data[\"Weight\"].min()"
   ]
  },
  {
   "cell_type": "markdown",
   "metadata": {},
   "source": [
    "Чему равно максимальное значение веса студента в таблице?"
   ]
  },
  {
   "cell_type": "code",
   "execution_count": 20,
   "metadata": {},
   "outputs": [
    {
     "data": {
      "text/plain": [
       "120.0"
      ]
     },
     "execution_count": 20,
     "metadata": {},
     "output_type": "execute_result"
    }
   ],
   "source": [
    "data[\"Weight\"].max()"
   ]
  },
  {
   "cell_type": "markdown",
   "metadata": {},
   "source": [
    "Сколько людей выбирает \"Ножницы\" при игре в \"Камень-Ножницы-Бумагу\"?"
   ]
  },
  {
   "cell_type": "code",
   "execution_count": 24,
   "metadata": {},
   "outputs": [
    {
     "data": {
      "text/plain": [
       "Rock paper scissors\n",
       "Ножницы    88\n",
       "Камень     60\n",
       "Бумага     38\n",
       "Name: count, dtype: int64"
      ]
     },
     "execution_count": 24,
     "metadata": {},
     "output_type": "execute_result"
    }
   ],
   "source": [
    "data[\"Rock paper scissors\"].value_counts()"
   ]
  },
  {
   "cell_type": "code",
   "execution_count": 23,
   "metadata": {},
   "outputs": [
    {
     "data": {
      "text/plain": [
       "88"
      ]
     },
     "execution_count": 23,
     "metadata": {},
     "output_type": "execute_result"
    }
   ],
   "source": [
    "data[\"Rock paper scissors\"].value_counts().loc[\"Ножницы\"]"
   ]
  },
  {
   "cell_type": "markdown",
   "metadata": {},
   "source": [
    "Чему равен вес десятого по счету человека в таблице и какой у него пол? "
   ]
  },
  {
   "cell_type": "code",
   "execution_count": 27,
   "metadata": {},
   "outputs": [
    {
     "data": {
      "text/html": [
       "<div>\n",
       "<style scoped>\n",
       "    .dataframe tbody tr th:only-of-type {\n",
       "        vertical-align: middle;\n",
       "    }\n",
       "\n",
       "    .dataframe tbody tr th {\n",
       "        vertical-align: top;\n",
       "    }\n",
       "\n",
       "    .dataframe thead th {\n",
       "        text-align: right;\n",
       "    }\n",
       "</style>\n",
       "<table border=\"1\" class=\"dataframe\">\n",
       "  <thead>\n",
       "    <tr style=\"text-align: right;\">\n",
       "      <th></th>\n",
       "      <th>Weight</th>\n",
       "      <th>Sex</th>\n",
       "    </tr>\n",
       "  </thead>\n",
       "  <tbody>\n",
       "    <tr>\n",
       "      <th>9</th>\n",
       "      <td>58.0</td>\n",
       "      <td>женский</td>\n",
       "    </tr>\n",
       "  </tbody>\n",
       "</table>\n",
       "</div>"
      ],
      "text/plain": [
       "   Weight      Sex\n",
       "9    58.0  женский"
      ]
     },
     "execution_count": 27,
     "metadata": {},
     "output_type": "execute_result"
    }
   ],
   "source": [
    "data.iloc[[9]][[\"Weight\", \"Sex\"]]"
   ]
  },
  {
   "cell_type": "markdown",
   "metadata": {},
   "source": [
    "### 2.3 Селекция таблиц"
   ]
  },
  {
   "cell_type": "markdown",
   "metadata": {},
   "source": [
    "Чему равен рост человека с максимальным весом?"
   ]
  },
  {
   "cell_type": "code",
   "execution_count": 30,
   "metadata": {},
   "outputs": [
    {
     "data": {
      "text/plain": [
       "7    180\n",
       "Name: Growth, dtype: int64"
      ]
     },
     "execution_count": 30,
     "metadata": {},
     "output_type": "execute_result"
    }
   ],
   "source": [
    "data[data[\"Weight\"] == data[\"Weight\"].max()][\"Growth\"]"
   ]
  },
  {
   "cell_type": "markdown",
   "metadata": {},
   "source": [
    " Создайте две новых таблицы: army_persons - это все студенты, которых могут призвать в армию из-за отчисления, и free_persons - это те, кого не призовут.\n",
    "\n",
    "Подсчитайте среднюю длину волос у студентов таблиц army_persons и free_persons .\n",
    "\n",
    "В ответ запишите среднюю длину волос студентов из army_persons"
   ]
  },
  {
   "cell_type": "code",
   "execution_count": 34,
   "metadata": {},
   "outputs": [
    {
     "data": {
      "text/plain": [
       "Army\n",
       "не призовут (по разным причинам)    149\n",
       "могут призвать                       37\n",
       "Name: count, dtype: int64"
      ]
     },
     "execution_count": 34,
     "metadata": {},
     "output_type": "execute_result"
    }
   ],
   "source": [
    "data[\"Army\"].value_counts(dropna=False)"
   ]
  },
  {
   "cell_type": "code",
   "execution_count": 35,
   "metadata": {},
   "outputs": [],
   "source": [
    "army_persons = data[data[\"Army\"] == \"могут призвать\"]\n",
    "free_persons = data[data[\"Army\"] == \"не призовут (по разным причинам)\"]"
   ]
  },
  {
   "cell_type": "code",
   "execution_count": 39,
   "metadata": {},
   "outputs": [
    {
     "name": "stdout",
     "output_type": "stream",
     "text": [
      "11.045945945945945\n",
      "40.15570469798658\n"
     ]
    }
   ],
   "source": [
    "print(army_persons[\"Hair length\"].mean())\n",
    "print(free_persons[\"Hair length\"].mean())"
   ]
  },
  {
   "cell_type": "markdown",
   "metadata": {},
   "source": [
    "***Верна ли гипотеза: \"Чтобы избежать призыва, нужно всего-лишь отрастить волосы подлиннее\"?***"
   ]
  },
  {
   "cell_type": "code",
   "execution_count": 59,
   "metadata": {},
   "outputs": [
    {
     "name": "stderr",
     "output_type": "stream",
     "text": [
      "c:\\Users\\asus\\anaconda3\\Lib\\site-packages\\seaborn\\_oldcore.py:1119: FutureWarning: use_inf_as_na option is deprecated and will be removed in a future version. Convert inf values to NaN before operating instead.\n",
      "  with pd.option_context('mode.use_inf_as_na', True):\n",
      "c:\\Users\\asus\\anaconda3\\Lib\\site-packages\\seaborn\\_oldcore.py:1075: FutureWarning: When grouping with a length-1 list-like, you will need to pass a length-1 tuple to get_group in a future version of pandas. Pass `(name,)` instead of `name` to silence this warning.\n",
      "  data_subset = grouped_data.get_group(pd_key)\n",
      "c:\\Users\\asus\\anaconda3\\Lib\\site-packages\\seaborn\\_oldcore.py:1075: FutureWarning: When grouping with a length-1 list-like, you will need to pass a length-1 tuple to get_group in a future version of pandas. Pass `(name,)` instead of `name` to silence this warning.\n",
      "  data_subset = grouped_data.get_group(pd_key)\n",
      "c:\\Users\\asus\\anaconda3\\Lib\\site-packages\\seaborn\\_oldcore.py:1075: FutureWarning: When grouping with a length-1 list-like, you will need to pass a length-1 tuple to get_group in a future version of pandas. Pass `(name,)` instead of `name` to silence this warning.\n",
      "  data_subset = grouped_data.get_group(pd_key)\n",
      "c:\\Users\\asus\\anaconda3\\Lib\\site-packages\\seaborn\\_oldcore.py:1075: FutureWarning: When grouping with a length-1 list-like, you will need to pass a length-1 tuple to get_group in a future version of pandas. Pass `(name,)` instead of `name` to silence this warning.\n",
      "  data_subset = grouped_data.get_group(pd_key)\n",
      "c:\\Users\\asus\\anaconda3\\Lib\\site-packages\\seaborn\\_oldcore.py:1075: FutureWarning: When grouping with a length-1 list-like, you will need to pass a length-1 tuple to get_group in a future version of pandas. Pass `(name,)` instead of `name` to silence this warning.\n",
      "  data_subset = grouped_data.get_group(pd_key)\n"
     ]
    },
    {
     "data": {
      "text/plain": [
       "<Axes: xlabel='Hair length', ylabel='Count'>"
      ]
     },
     "execution_count": 59,
     "metadata": {},
     "output_type": "execute_result"
    },
    {
     "data": {
      "image/png": "[encoded data removed]",
      "text/plain": [
       "<Figure size 640x480 with 1 Axes>"
      ]
     },
     "metadata": {},
     "output_type": "display_data"
    }
   ],
   "source": [
    "import seaborn as sns\n",
    "\n",
    "sns.histplot(data=data, x=\"Hair length\", hue=\"Army\", multiple=\"dodge\", kde=True)"
   ]
  },
  {
   "cell_type": "markdown",
   "metadata": {},
   "source": [
    "*scipy.stats.pointbiserialr*\n",
    "\n",
    "Точечная бисериальная корреляция используется для измерения взаимосвязи между бинарной переменной x и непрерывной переменной y. Как и другие коэффициенты корреляции, этот варьируется от -1 до +1, причем 0 означает отсутствие корреляции. Корреляции -1 или +1 подразумевают определяющую связь.\n",
    "\n",
    "*https://docs.scipy.org/doc/scipy-0.14.0/reference/generated/scipy.stats.pointbiserialr.html*"
   ]
  },
  {
   "cell_type": "code",
   "execution_count": null,
   "metadata": {},
   "outputs": [],
   "source": [
    "from scipy.stats import pointbiserialr"
   ]
  },
  {
   "cell_type": "code",
   "execution_count": 42,
   "metadata": {},
   "outputs": [],
   "source": [
    "data[\"Sex_code\"], _ = pd.factorize(data[\"Sex\"])\n",
    "data[\"Army_code\"], _ = pd.factorize(data[\"Army\"])"
   ]
  },
  {
   "cell_type": "code",
   "execution_count": 88,
   "metadata": {},
   "outputs": [
    {
     "name": "stdout",
     "output_type": "stream",
     "text": [
      "Коэффициент корреляции точек-бисериации: -0.45386532106310684\n",
      "p-значение: 7.7132215111374e-11\n",
      "Корреляция статистически значима.\n"
     ]
    }
   ],
   "source": [
    "# Вычисляем коэффициент корреляции точек-бисериации\n",
    "point_biserial_corr, p_value = pointbiserialr(data[\"Hair length\"], data[\"Army_code\"])\n",
    "\n",
    "# Выводим результаты\n",
    "print(\"Коэффициент корреляции точек-бисериации:\", point_biserial_corr)\n",
    "print(\"p-значение:\", p_value)\n",
    "\n",
    "# Оцениваем статистическую значимость\n",
    "alpha = 0.05\n",
    "if p_value < alpha:\n",
    "    print(\"Корреляция статистически значима.\")\n",
    "else:\n",
    "    print(\"Корреляция не является статистически значимой.\")"
   ]
  },
  {
   "cell_type": "markdown",
   "metadata": {},
   "source": [
    "Объясняется тем, что в выборке есть также девушки. Длинные волосы - нет возможности получить призыв.\n",
    "\n",
    "Посмотрим только для мужчин"
   ]
  },
  {
   "cell_type": "code",
   "execution_count": 90,
   "metadata": {},
   "outputs": [],
   "source": [
    "data_men = data[data[\"Sex\"] == \"мужской\"]"
   ]
  },
  {
   "cell_type": "code",
   "execution_count": 91,
   "metadata": {},
   "outputs": [
    {
     "name": "stdout",
     "output_type": "stream",
     "text": [
      "Коэффициент корреляции точек-бисериации: -0.038799274472147934\n",
      "p-значение: 0.757092767626263\n",
      "Корреляция не является статистически значимой.\n"
     ]
    }
   ],
   "source": [
    "# Вычисляем коэффициент корреляции точек-бисериации\n",
    "point_biserial_corr, p_value = pointbiserialr(\n",
    "    data_men[\"Hair length\"], data_men[\"Army_code\"]\n",
    ")\n",
    "\n",
    "# Выводим результаты\n",
    "print(\"Коэффициент корреляции точек-бисериации:\", point_biserial_corr)\n",
    "print(\"p-значение:\", p_value)\n",
    "\n",
    "# Оцениваем статистическую значимость\n",
    "alpha = 0.05\n",
    "if p_value < alpha:\n",
    "    print(\"Корреляция статистически значима.\")\n",
    "else:\n",
    "    print(\"Корреляция не является статистически значимой.\")"
   ]
  },
  {
   "cell_type": "markdown",
   "metadata": {},
   "source": [
    "Корреляция не является статистически значимой, и может быть случайной, мы не можем отклонить нулевую гипотезу\n",
    "\n",
    "---"
   ]
  },
  {
   "cell_type": "markdown",
   "metadata": {},
   "source": [
    "Найдите всех студентов, у которых 0 друзей в социальных сетях. Сколько среди них женщин и мужчин?"
   ]
  },
  {
   "cell_type": "code",
   "execution_count": 62,
   "metadata": {},
   "outputs": [
    {
     "data": {
      "text/plain": [
       "Sex\n",
       "мужской    1\n",
       "женский    1\n",
       "Name: count, dtype: int64"
      ]
     },
     "execution_count": 62,
     "metadata": {},
     "output_type": "execute_result"
    }
   ],
   "source": [
    "data[data[\"Friend number\"] == 0][\"Sex\"].value_counts(dropna=False)"
   ]
  },
  {
   "cell_type": "markdown",
   "metadata": {},
   "source": [
    "Проверим гипотезу: \"Любители собак в основном живут на нижних этажах домов\" (типа иначе выгуливать лень). \n",
    "\n",
    "Создайте таблицу dor_lovers - это все студенты, которые любят собак. \n",
    "\n",
    "В ответ запишите долю (процент) из них, которые живут на первом этаже. Ответ округлить до целого количества процентов. "
   ]
  },
  {
   "cell_type": "code",
   "execution_count": 64,
   "metadata": {},
   "outputs": [],
   "source": [
    "dor_lovers = data[data[\"Animal\"] == \"Собак\"]"
   ]
  },
  {
   "cell_type": "code",
   "execution_count": 66,
   "metadata": {},
   "outputs": [
    {
     "data": {
      "text/plain": [
       "Floor number\n",
       "1     0.116667\n",
       "2     0.083333\n",
       "3     0.050000\n",
       "4     0.200000\n",
       "5     0.100000\n",
       "6     0.083333\n",
       "7     0.066667\n",
       "8     0.033333\n",
       "9     0.050000\n",
       "10    0.033333\n",
       "11    0.050000\n",
       "12    0.033333\n",
       "13    0.016667\n",
       "14    0.033333\n",
       "15    0.016667\n",
       "16    0.016667\n",
       "17    0.016667\n",
       "Name: proportion, dtype: float64"
      ]
     },
     "execution_count": 66,
     "metadata": {},
     "output_type": "execute_result"
    }
   ],
   "source": [
    "dor_lovers[\"Floor number\"].value_counts(normalize=True).sort_index()"
   ]
  },
  {
   "cell_type": "code",
   "execution_count": 68,
   "metadata": {},
   "outputs": [
    {
     "name": "stdout",
     "output_type": "stream",
     "text": [
      "Floor number\n",
      "1    11.666667\n",
      "Name: proportion, dtype: float64\n"
     ]
    }
   ],
   "source": [
    "print(dor_lovers[\"Floor number\"].value_counts(normalize=True).iloc[[1]] * 100)"
   ]
  },
  {
   "cell_type": "markdown",
   "metadata": {},
   "source": [
    "Получить две таблицы:\n",
    "\n",
    "single_child - это все студенты у которых нет ни брата ни сестры\n",
    "\n",
    "not_single_child - это все студенты у которых есть брат или сестра"
   ]
  },
  {
   "cell_type": "code",
   "execution_count": 74,
   "metadata": {},
   "outputs": [],
   "source": [
    "single_child = data[data[\"Brother-sister\"] == \"нет ни брата ни сестры\"]\n",
    "not_single_child = data[~(data[\"Brother-sister\"] == \"нет ни брата ни сестры\")]"
   ]
  },
  {
   "cell_type": "markdown",
   "metadata": {},
   "source": [
    "Найдите медиану признака 'Social network duration min' (сколько времени студент проводит в соцсетях) отдельно для студентов таблицы  single_child  и таблицы not_single_child\n",
    "\n",
    "В ответ напишите, на сколько минут медиана для таблицы single_child  больше медианы для таблицы not_single_chil"
   ]
  },
  {
   "cell_type": "code",
   "execution_count": 77,
   "metadata": {},
   "outputs": [
    {
     "data": {
      "text/plain": [
       "60.0"
      ]
     },
     "execution_count": 77,
     "metadata": {},
     "output_type": "execute_result"
    }
   ],
   "source": [
    "(\n",
    "    single_child[\"Social network duration min\"].median()\n",
    "    - not_single_child[\"Social network duration min\"].median()\n",
    ")"
   ]
  },
  {
   "cell_type": "markdown",
   "metadata": {},
   "source": [
    "Создайте три таблицы:\n",
    "\n",
    "KFC_persons - студенты, которые ходят в KFC\n",
    "\n",
    "Burger_persons - студенты, которые ходят в Burger king\n",
    "\n",
    "Mac_persons - студенты, которые ходят в Макдональдс (aka \"Вкусно и точка\")"
   ]
  },
  {
   "cell_type": "code",
   "execution_count": null,
   "metadata": {},
   "outputs": [],
   "source": [
    "KFC_persons = data[data[\"Fastfood\"] == \"KFC\"]\n",
    "Burger_persons = data[data[\"Fastfood\"] == \"Бургер кинг\"]\n",
    "Mac_persons = data[\n",
    "    data[\"Fastfood\"] == \"Макдональдс (или как он там сейчас называется?)\"\n",
    "]"
   ]
  },
  {
   "cell_type": "markdown",
   "metadata": {},
   "source": [
    "Для каждой категории студентов подсчитайте средний вес студентов.\n",
    "\n",
    "В ответ напишите: на сколько средний вес студентов из KFC превышает средний вес студентов из Макдональдса."
   ]
  },
  {
   "cell_type": "code",
   "execution_count": 83,
   "metadata": {},
   "outputs": [
    {
     "name": "stdout",
     "output_type": "stream",
     "text": [
      "66.85915492957747\n",
      "64.21739130434783\n",
      "58.8\n",
      "8.059154929577474\n"
     ]
    }
   ],
   "source": [
    "print(\n",
    "    KFC_persons[\"Weight\"].mean(),\n",
    "    Burger_persons[\"Weight\"].mean(),\n",
    "    Mac_persons[\"Weight\"].mean(),\n",
    "    sep=\"\\n\",\n",
    ")\n",
    "\n",
    "print(KFC_persons[\"Weight\"].mean() - Mac_persons[\"Weight\"].mean())"
   ]
  },
  {
   "cell_type": "markdown",
   "metadata": {},
   "source": [
    "### 2.4 Влияние строк и столбцов друг на друга"
   ]
  },
  {
   "cell_type": "markdown",
   "metadata": {},
   "source": [
    "Из имеющейся таблицы с анкетами наших студентов создайте \"обрезанную таблицу\" df_cut, состоящую из столбцов \"Год рождения\", \"Рост\", \"Вес\", \"Длина волос\", \"Размер обуви\".\n",
    "\n",
    "Отсортируйте таблицу по возрастанию признака \"Размер обуви\". В ответ напишите год рождения студента, попавшего в первую строку отсортированной таблицы."
   ]
  },
  {
   "cell_type": "code",
   "execution_count": 99,
   "metadata": {},
   "outputs": [
    {
     "data": {
      "text/plain": [
       "2003"
      ]
     },
     "execution_count": 99,
     "metadata": {},
     "output_type": "execute_result"
    }
   ],
   "source": [
    "df_cut = data[[\"Year of birth\", \"Growth\", \"Weight\", \"Hair length\", \"Shoe size\"]]\n",
    "\n",
    "df_cut.sort_values(by='Shoe size')['Year of birth'].iloc[0]"
   ]
  },
  {
   "cell_type": "markdown",
   "metadata": {},
   "source": [
    "Отсортируйте таблицу по убыванию признака \"Размер обуви\". В ответ напишите год рождения студента, попавшего в третью строку отсортированной таблицы."
   ]
  },
  {
   "cell_type": "code",
   "execution_count": 100,
   "metadata": {},
   "outputs": [
    {
     "data": {
      "text/plain": [
       "2002"
      ]
     },
     "execution_count": 100,
     "metadata": {},
     "output_type": "execute_result"
    }
   ],
   "source": [
    "df_cut.sort_values(by=\"Shoe size\", ascending=False)[\"Year of birth\"].iloc[2]"
   ]
  },
  {
   "cell_type": "markdown",
   "metadata": {},
   "source": [
    "Отсортируйте таблицу по возрастанию признака \"Размер обуви\", а внутри группы студентов с одинаковым размером обуви сортировка должна производиться по возрастанию  признака \"Рост\".\n",
    "\n",
    "В ответ напишите год рождения студента, попавшего в девятую строку отсортированной таблицы."
   ]
  },
  {
   "cell_type": "code",
   "execution_count": 101,
   "metadata": {},
   "outputs": [
    {
     "data": {
      "text/plain": [
       "1999"
      ]
     },
     "execution_count": 101,
     "metadata": {},
     "output_type": "execute_result"
    }
   ],
   "source": [
    "df_cut.sort_values(by=[\"Shoe size\", \"Growth\"], ascending=[True, True])[\n",
    "    \"Year of birth\"\n",
    "].iloc[8]"
   ]
  },
  {
   "cell_type": "markdown",
   "metadata": {},
   "source": [
    "Отсортируйте таблицу по возрастанию признака \"Размер обуви\", а внутри группы студентов с одинаковым размером обуви сортировка должна производиться по убыванию признака \"Рост\".\n",
    "\n",
    "В ответ напишите год рождения студента, попавшего во вторую строку отсортированной таблицы"
   ]
  },
  {
   "cell_type": "code",
   "execution_count": 102,
   "metadata": {},
   "outputs": [
    {
     "data": {
      "text/plain": [
       "2002"
      ]
     },
     "execution_count": 102,
     "metadata": {},
     "output_type": "execute_result"
    }
   ],
   "source": [
    "df_cut.sort_values(by=[\"Shoe size\", \"Growth\"], ascending=[True, False])[\n",
    "    \"Year of birth\"\n",
    "].iloc[1]"
   ]
  },
  {
   "cell_type": "markdown",
   "metadata": {},
   "source": [
    "Отсортируйте таблицу по убыванию признака \"Размер обуви\", а внутри группы студентов с одинаковым размером обуви сортировка должна производиться по возрастанию  признака \"Рост\".\n",
    "\n",
    "В ответ напишите год рождения студента, попавшего во вторую строку отсортированной таблицы."
   ]
  },
  {
   "cell_type": "code",
   "execution_count": 103,
   "metadata": {},
   "outputs": [
    {
     "data": {
      "text/plain": [
       "2003"
      ]
     },
     "execution_count": 103,
     "metadata": {},
     "output_type": "execute_result"
    }
   ],
   "source": [
    "df_cut.sort_values(by=[\"Shoe size\", \"Growth\"], ascending=[False, True])[\n",
    "    \"Year of birth\"\n",
    "].iloc[1]"
   ]
  },
  {
   "cell_type": "markdown",
   "metadata": {},
   "source": [
    "Допустим, что все студенты решили сделать себе прически типа \"Ирокез\".\n",
    "\n",
    "Создайте новый столбец с названием 'Full length' (\"Полный рост\"), значения в котором равны сумме роста и длины волос. \n",
    "\n",
    "Чему равно максимальное значение признака \"Полный рост\" для наших студентов?"
   ]
  },
  {
   "cell_type": "code",
   "execution_count": 105,
   "metadata": {},
   "outputs": [
    {
     "name": "stderr",
     "output_type": "stream",
     "text": [
      "C:\\Users\\asus\\AppData\\Local\\Temp\\ipykernel_21788\\3344656055.py:1: SettingWithCopyWarning: \n",
      "A value is trying to be set on a copy of a slice from a DataFrame.\n",
      "Try using .loc[row_indexer,col_indexer] = value instead\n",
      "\n",
      "See the caveats in the documentation: https://pandas.pydata.org/pandas-docs/stable/user_guide/indexing.html#returning-a-view-versus-a-copy\n",
      "  df_cut[\"Полный рост\"] = df_cut[\"Growth\"] + df_cut[\"Hair length\"]\n"
     ]
    },
    {
     "data": {
      "text/plain": [
       "319.0"
      ]
     },
     "execution_count": 105,
     "metadata": {},
     "output_type": "execute_result"
    }
   ],
   "source": [
    "df_cut[\"Полный рост\"] = df_cut[\"Growth\"] + df_cut[\"Hair length\"]\n",
    "\n",
    "df_cut[\"Полный рост\"].max()"
   ]
  },
  {
   "cell_type": "markdown",
   "metadata": {},
   "source": [
    "Выведите на экран таблицу со значениями коэффициента корреляции (КК). \n",
    "\n",
    "Чему равен КК для признаков \"Рост\" и \"Размер обуви\"? Ответ округлить до двух знаков после запятой."
   ]
  },
  {
   "cell_type": "code",
   "execution_count": 109,
   "metadata": {},
   "outputs": [
    {
     "data": {
      "text/html": [
       "<div>\n",
       "<style scoped>\n",
       "    .dataframe tbody tr th:only-of-type {\n",
       "        vertical-align: middle;\n",
       "    }\n",
       "\n",
       "    .dataframe tbody tr th {\n",
       "        vertical-align: top;\n",
       "    }\n",
       "\n",
       "    .dataframe thead th {\n",
       "        text-align: right;\n",
       "    }\n",
       "</style>\n",
       "<table border=\"1\" class=\"dataframe\">\n",
       "  <thead>\n",
       "    <tr style=\"text-align: right;\">\n",
       "      <th></th>\n",
       "      <th>Year of birth</th>\n",
       "      <th>Growth</th>\n",
       "      <th>Weight</th>\n",
       "      <th>Hair length</th>\n",
       "      <th>Shoe size</th>\n",
       "      <th>Полный рост</th>\n",
       "    </tr>\n",
       "  </thead>\n",
       "  <tbody>\n",
       "    <tr>\n",
       "      <th>Year of birth</th>\n",
       "      <td>1.000000</td>\n",
       "      <td>-0.113357</td>\n",
       "      <td>0.006042</td>\n",
       "      <td>0.095402</td>\n",
       "      <td>-0.108360</td>\n",
       "      <td>0.064713</td>\n",
       "    </tr>\n",
       "    <tr>\n",
       "      <th>Growth</th>\n",
       "      <td>-0.113357</td>\n",
       "      <td>1.000000</td>\n",
       "      <td>0.544528</td>\n",
       "      <td>-0.554408</td>\n",
       "      <td>0.863252</td>\n",
       "      <td>-0.235492</td>\n",
       "    </tr>\n",
       "    <tr>\n",
       "      <th>Weight</th>\n",
       "      <td>0.006042</td>\n",
       "      <td>0.544528</td>\n",
       "      <td>1.000000</td>\n",
       "      <td>-0.319416</td>\n",
       "      <td>0.591149</td>\n",
       "      <td>-0.145316</td>\n",
       "    </tr>\n",
       "    <tr>\n",
       "      <th>Hair length</th>\n",
       "      <td>0.095402</td>\n",
       "      <td>-0.554408</td>\n",
       "      <td>-0.319416</td>\n",
       "      <td>1.000000</td>\n",
       "      <td>-0.567568</td>\n",
       "      <td>0.939398</td>\n",
       "    </tr>\n",
       "    <tr>\n",
       "      <th>Shoe size</th>\n",
       "      <td>-0.108360</td>\n",
       "      <td>0.863252</td>\n",
       "      <td>0.591149</td>\n",
       "      <td>-0.567568</td>\n",
       "      <td>1.000000</td>\n",
       "      <td>-0.307190</td>\n",
       "    </tr>\n",
       "    <tr>\n",
       "      <th>Полный рост</th>\n",
       "      <td>0.064713</td>\n",
       "      <td>-0.235492</td>\n",
       "      <td>-0.145316</td>\n",
       "      <td>0.939398</td>\n",
       "      <td>-0.307190</td>\n",
       "      <td>1.000000</td>\n",
       "    </tr>\n",
       "  </tbody>\n",
       "</table>\n",
       "</div>"
      ],
      "text/plain": [
       "               Year of birth    Growth    Weight  Hair length  Shoe size  \\\n",
       "Year of birth       1.000000 -0.113357  0.006042     0.095402  -0.108360   \n",
       "Growth             -0.113357  1.000000  0.544528    -0.554408   0.863252   \n",
       "Weight              0.006042  0.544528  1.000000    -0.319416   0.591149   \n",
       "Hair length         0.095402 -0.554408 -0.319416     1.000000  -0.567568   \n",
       "Shoe size          -0.108360  0.863252  0.591149    -0.567568   1.000000   \n",
       "Полный рост         0.064713 -0.235492 -0.145316     0.939398  -0.307190   \n",
       "\n",
       "               Полный рост  \n",
       "Year of birth     0.064713  \n",
       "Growth           -0.235492  \n",
       "Weight           -0.145316  \n",
       "Hair length       0.939398  \n",
       "Shoe size        -0.307190  \n",
       "Полный рост       1.000000  "
      ]
     },
     "execution_count": 109,
     "metadata": {},
     "output_type": "execute_result"
    }
   ],
   "source": [
    "df_cut.corr()"
   ]
  },
  {
   "cell_type": "code",
   "execution_count": 108,
   "metadata": {},
   "outputs": [
    {
     "data": {
      "text/plain": [
       "0.8632524929552189"
      ]
     },
     "execution_count": 108,
     "metadata": {},
     "output_type": "execute_result"
    }
   ],
   "source": [
    "df_cut.corr().loc[\"Growth\", \"Shoe size\"]"
   ]
  },
  {
   "cell_type": "markdown",
   "metadata": {},
   "source": [
    "С помощью метода-молитвы groupby сделайте так, чтобы на экран вывелась табличка (числа в ней - это средние баллы за ЕГЭ)"
   ]
  },
  {
   "cell_type": "code",
   "execution_count": 114,
   "metadata": {},
   "outputs": [
    {
     "data": {
      "text/html": [
       "<div>\n",
       "<style scoped>\n",
       "    .dataframe tbody tr th:only-of-type {\n",
       "        vertical-align: middle;\n",
       "    }\n",
       "\n",
       "    .dataframe tbody tr th {\n",
       "        vertical-align: top;\n",
       "    }\n",
       "\n",
       "    .dataframe thead th {\n",
       "        text-align: right;\n",
       "    }\n",
       "</style>\n",
       "<table border=\"1\" class=\"dataframe\">\n",
       "  <thead>\n",
       "    <tr style=\"text-align: right;\">\n",
       "      <th></th>\n",
       "      <th>Russian rating</th>\n",
       "      <th>Maths rating</th>\n",
       "    </tr>\n",
       "    <tr>\n",
       "      <th>Glasses</th>\n",
       "      <th></th>\n",
       "      <th></th>\n",
       "    </tr>\n",
       "  </thead>\n",
       "  <tbody>\n",
       "    <tr>\n",
       "      <th>да</th>\n",
       "      <td>83.388235</td>\n",
       "      <td>56.741176</td>\n",
       "    </tr>\n",
       "    <tr>\n",
       "      <th>нет</th>\n",
       "      <td>80.471910</td>\n",
       "      <td>59.955056</td>\n",
       "    </tr>\n",
       "    <tr>\n",
       "      <th>простите. не увидел(а) вопроса ))))</th>\n",
       "      <td>77.900000</td>\n",
       "      <td>54.700000</td>\n",
       "    </tr>\n",
       "  </tbody>\n",
       "</table>\n",
       "</div>"
      ],
      "text/plain": [
       "                                     Russian rating  Maths rating\n",
       "Glasses                                                          \n",
       "да                                        83.388235     56.741176\n",
       "нет                                       80.471910     59.955056\n",
       "простите. не увидел(а) вопроса ))))       77.900000     54.700000"
      ]
     },
     "execution_count": 114,
     "metadata": {},
     "output_type": "execute_result"
    }
   ],
   "source": [
    "data.groupby('Glasses')[['Russian rating', 'Maths rating']].mean()"
   ]
  },
  {
   "cell_type": "code",
   "execution_count": 115,
   "metadata": {},
   "outputs": [
    {
     "data": {
      "text/html": [
       "<div>\n",
       "<style scoped>\n",
       "    .dataframe tbody tr th:only-of-type {\n",
       "        vertical-align: middle;\n",
       "    }\n",
       "\n",
       "    .dataframe tbody tr th {\n",
       "        vertical-align: top;\n",
       "    }\n",
       "\n",
       "    .dataframe thead th {\n",
       "        text-align: right;\n",
       "    }\n",
       "</style>\n",
       "<table border=\"1\" class=\"dataframe\">\n",
       "  <thead>\n",
       "    <tr style=\"text-align: right;\">\n",
       "      <th></th>\n",
       "      <th>Russian rating</th>\n",
       "      <th>Maths rating</th>\n",
       "    </tr>\n",
       "    <tr>\n",
       "      <th>Rock paper scissors</th>\n",
       "      <th></th>\n",
       "      <th></th>\n",
       "    </tr>\n",
       "  </thead>\n",
       "  <tbody>\n",
       "    <tr>\n",
       "      <th>Бумага</th>\n",
       "      <td>76.473684</td>\n",
       "      <td>52.894737</td>\n",
       "    </tr>\n",
       "    <tr>\n",
       "      <th>Камень</th>\n",
       "      <td>81.450000</td>\n",
       "      <td>62.166667</td>\n",
       "    </tr>\n",
       "    <tr>\n",
       "      <th>Ножницы</th>\n",
       "      <td>83.988636</td>\n",
       "      <td>57.738636</td>\n",
       "    </tr>\n",
       "  </tbody>\n",
       "</table>\n",
       "</div>"
      ],
      "text/plain": [
       "                     Russian rating  Maths rating\n",
       "Rock paper scissors                              \n",
       "Бумага                    76.473684     52.894737\n",
       "Камень                    81.450000     62.166667\n",
       "Ножницы                   83.988636     57.738636"
      ]
     },
     "execution_count": 115,
     "metadata": {},
     "output_type": "execute_result"
    }
   ],
   "source": [
    "data.groupby('Rock paper scissors')[['Russian rating', 'Maths rating']].mean()"
   ]
  },
  {
   "cell_type": "code",
   "execution_count": 116,
   "metadata": {},
   "outputs": [
    {
     "data": {
      "text/html": [
       "<div>\n",
       "<style scoped>\n",
       "    .dataframe tbody tr th:only-of-type {\n",
       "        vertical-align: middle;\n",
       "    }\n",
       "\n",
       "    .dataframe tbody tr th {\n",
       "        vertical-align: top;\n",
       "    }\n",
       "\n",
       "    .dataframe thead th {\n",
       "        text-align: right;\n",
       "    }\n",
       "</style>\n",
       "<table border=\"1\" class=\"dataframe\">\n",
       "  <thead>\n",
       "    <tr style=\"text-align: right;\">\n",
       "      <th></th>\n",
       "      <th>Age</th>\n",
       "      <th>Growth</th>\n",
       "      <th>Shoe size</th>\n",
       "      <th>Course number</th>\n",
       "      <th>Year of birth</th>\n",
       "      <th>Friend number</th>\n",
       "      <th>Russian rating</th>\n",
       "      <th>Maths rating</th>\n",
       "      <th>Physics rating</th>\n",
       "      <th>Computer science rating</th>\n",
       "      <th>...</th>\n",
       "      <th>Putin age</th>\n",
       "      <th>Hair length</th>\n",
       "      <th>Floor number</th>\n",
       "      <th>Social network duration min</th>\n",
       "      <th>City population</th>\n",
       "      <th>MIddle and index finger</th>\n",
       "      <th>Middle and ring finger</th>\n",
       "      <th>Middle and little finger</th>\n",
       "      <th>Sex_code</th>\n",
       "      <th>Army_code</th>\n",
       "    </tr>\n",
       "  </thead>\n",
       "  <tbody>\n",
       "    <tr>\n",
       "      <th>count</th>\n",
       "      <td>186.000000</td>\n",
       "      <td>186.000000</td>\n",
       "      <td>186.000000</td>\n",
       "      <td>186.000000</td>\n",
       "      <td>186.000000</td>\n",
       "      <td>186.000000</td>\n",
       "      <td>186.000000</td>\n",
       "      <td>186.000000</td>\n",
       "      <td>186.000000</td>\n",
       "      <td>186.000000</td>\n",
       "      <td>...</td>\n",
       "      <td>186.000000</td>\n",
       "      <td>186.000000</td>\n",
       "      <td>186.000000</td>\n",
       "      <td>1.860000e+02</td>\n",
       "      <td>1.860000e+02</td>\n",
       "      <td>186.000000</td>\n",
       "      <td>186.000000</td>\n",
       "      <td>186.000000</td>\n",
       "      <td>186.000000</td>\n",
       "      <td>186.000000</td>\n",
       "    </tr>\n",
       "    <tr>\n",
       "      <th>mean</th>\n",
       "      <td>20.688172</td>\n",
       "      <td>170.661290</td>\n",
       "      <td>39.715054</td>\n",
       "      <td>3.500000</td>\n",
       "      <td>1991.107527</td>\n",
       "      <td>374.032258</td>\n",
       "      <td>81.634409</td>\n",
       "      <td>58.177419</td>\n",
       "      <td>13.182796</td>\n",
       "      <td>32.801075</td>\n",
       "      <td>...</td>\n",
       "      <td>690.236559</td>\n",
       "      <td>34.365054</td>\n",
       "      <td>6.322581</td>\n",
       "      <td>5.417500e+08</td>\n",
       "      <td>7.946669e+05</td>\n",
       "      <td>9.741935</td>\n",
       "      <td>9.705376</td>\n",
       "      <td>28.798925</td>\n",
       "      <td>0.354839</td>\n",
       "      <td>0.198925</td>\n",
       "    </tr>\n",
       "    <tr>\n",
       "      <th>std</th>\n",
       "      <td>3.468713</td>\n",
       "      <td>9.055881</td>\n",
       "      <td>2.814920</td>\n",
       "      <td>3.147285</td>\n",
       "      <td>132.099550</td>\n",
       "      <td>2199.541507</td>\n",
       "      <td>14.325019</td>\n",
       "      <td>29.575478</td>\n",
       "      <td>26.414552</td>\n",
       "      <td>38.992282</td>\n",
       "      <td>...</td>\n",
       "      <td>7360.321689</td>\n",
       "      <td>25.672211</td>\n",
       "      <td>4.338791</td>\n",
       "      <td>7.332267e+09</td>\n",
       "      <td>6.093052e+05</td>\n",
       "      <td>4.385241</td>\n",
       "      <td>6.894963</td>\n",
       "      <td>19.710011</td>\n",
       "      <td>0.479756</td>\n",
       "      <td>0.400269</td>\n",
       "    </tr>\n",
       "    <tr>\n",
       "      <th>min</th>\n",
       "      <td>17.000000</td>\n",
       "      <td>153.000000</td>\n",
       "      <td>34.000000</td>\n",
       "      <td>0.000000</td>\n",
       "      <td>200.000000</td>\n",
       "      <td>0.000000</td>\n",
       "      <td>0.000000</td>\n",
       "      <td>0.000000</td>\n",
       "      <td>0.000000</td>\n",
       "      <td>0.000000</td>\n",
       "      <td>...</td>\n",
       "      <td>42.000000</td>\n",
       "      <td>0.200000</td>\n",
       "      <td>1.000000</td>\n",
       "      <td>0.000000e+00</td>\n",
       "      <td>1.000000e+00</td>\n",
       "      <td>0.000000</td>\n",
       "      <td>0.000000</td>\n",
       "      <td>0.000000</td>\n",
       "      <td>0.000000</td>\n",
       "      <td>0.000000</td>\n",
       "    </tr>\n",
       "    <tr>\n",
       "      <th>25%</th>\n",
       "      <td>19.000000</td>\n",
       "      <td>164.000000</td>\n",
       "      <td>38.000000</td>\n",
       "      <td>2.000000</td>\n",
       "      <td>2000.000000</td>\n",
       "      <td>74.500000</td>\n",
       "      <td>76.000000</td>\n",
       "      <td>50.000000</td>\n",
       "      <td>0.000000</td>\n",
       "      <td>0.000000</td>\n",
       "      <td>...</td>\n",
       "      <td>67.000000</td>\n",
       "      <td>12.000000</td>\n",
       "      <td>3.000000</td>\n",
       "      <td>1.200000e+02</td>\n",
       "      <td>7.000000e+05</td>\n",
       "      <td>7.000000</td>\n",
       "      <td>6.000000</td>\n",
       "      <td>20.000000</td>\n",
       "      <td>0.000000</td>\n",
       "      <td>0.000000</td>\n",
       "    </tr>\n",
       "    <tr>\n",
       "      <th>50%</th>\n",
       "      <td>20.000000</td>\n",
       "      <td>169.000000</td>\n",
       "      <td>39.000000</td>\n",
       "      <td>3.000000</td>\n",
       "      <td>2001.500000</td>\n",
       "      <td>130.000000</td>\n",
       "      <td>85.000000</td>\n",
       "      <td>70.000000</td>\n",
       "      <td>0.000000</td>\n",
       "      <td>0.000000</td>\n",
       "      <td>...</td>\n",
       "      <td>69.000000</td>\n",
       "      <td>30.000000</td>\n",
       "      <td>5.000000</td>\n",
       "      <td>2.000000e+02</td>\n",
       "      <td>8.000000e+05</td>\n",
       "      <td>10.000000</td>\n",
       "      <td>10.000000</td>\n",
       "      <td>28.500000</td>\n",
       "      <td>0.000000</td>\n",
       "      <td>0.000000</td>\n",
       "    </tr>\n",
       "    <tr>\n",
       "      <th>75%</th>\n",
       "      <td>21.000000</td>\n",
       "      <td>178.000000</td>\n",
       "      <td>42.000000</td>\n",
       "      <td>4.000000</td>\n",
       "      <td>2003.000000</td>\n",
       "      <td>236.000000</td>\n",
       "      <td>91.000000</td>\n",
       "      <td>76.750000</td>\n",
       "      <td>0.000000</td>\n",
       "      <td>75.000000</td>\n",
       "      <td>...</td>\n",
       "      <td>70.000000</td>\n",
       "      <td>50.000000</td>\n",
       "      <td>8.000000</td>\n",
       "      <td>3.600000e+02</td>\n",
       "      <td>8.845000e+05</td>\n",
       "      <td>12.000000</td>\n",
       "      <td>12.000000</td>\n",
       "      <td>35.000000</td>\n",
       "      <td>1.000000</td>\n",
       "      <td>0.000000</td>\n",
       "    </tr>\n",
       "    <tr>\n",
       "      <th>max</th>\n",
       "      <td>55.000000</td>\n",
       "      <td>197.000000</td>\n",
       "      <td>48.000000</td>\n",
       "      <td>37.000000</td>\n",
       "      <td>2004.000000</td>\n",
       "      <td>30000.000000</td>\n",
       "      <td>100.000000</td>\n",
       "      <td>100.000000</td>\n",
       "      <td>97.000000</td>\n",
       "      <td>98.000000</td>\n",
       "      <td>...</td>\n",
       "      <td>100000.000000</td>\n",
       "      <td>150.000000</td>\n",
       "      <td>20.000000</td>\n",
       "      <td>1.000000e+11</td>\n",
       "      <td>8.000000e+06</td>\n",
       "      <td>30.000000</td>\n",
       "      <td>80.000000</td>\n",
       "      <td>250.000000</td>\n",
       "      <td>1.000000</td>\n",
       "      <td>1.000000</td>\n",
       "    </tr>\n",
       "  </tbody>\n",
       "</table>\n",
       "<p>8 rows × 35 columns</p>\n",
       "</div>"
      ],
      "text/plain": [
       "              Age      Growth   Shoe size  Course number  Year of birth  \\\n",
       "count  186.000000  186.000000  186.000000     186.000000     186.000000   \n",
       "mean    20.688172  170.661290   39.715054       3.500000    1991.107527   \n",
       "std      3.468713    9.055881    2.814920       3.147285     132.099550   \n",
       "min     17.000000  153.000000   34.000000       0.000000     200.000000   \n",
       "25%     19.000000  164.000000   38.000000       2.000000    2000.000000   \n",
       "50%     20.000000  169.000000   39.000000       3.000000    2001.500000   \n",
       "75%     21.000000  178.000000   42.000000       4.000000    2003.000000   \n",
       "max     55.000000  197.000000   48.000000      37.000000    2004.000000   \n",
       "\n",
       "       Friend number  Russian rating  Maths rating  Physics rating  \\\n",
       "count     186.000000      186.000000    186.000000      186.000000   \n",
       "mean      374.032258       81.634409     58.177419       13.182796   \n",
       "std      2199.541507       14.325019     29.575478       26.414552   \n",
       "min         0.000000        0.000000      0.000000        0.000000   \n",
       "25%        74.500000       76.000000     50.000000        0.000000   \n",
       "50%       130.000000       85.000000     70.000000        0.000000   \n",
       "75%       236.000000       91.000000     76.750000        0.000000   \n",
       "max     30000.000000      100.000000    100.000000       97.000000   \n",
       "\n",
       "       Computer science rating  ...      Putin age  Hair length  Floor number  \\\n",
       "count               186.000000  ...     186.000000   186.000000    186.000000   \n",
       "mean                 32.801075  ...     690.236559    34.365054      6.322581   \n",
       "std                  38.992282  ...    7360.321689    25.672211      4.338791   \n",
       "min                   0.000000  ...      42.000000     0.200000      1.000000   \n",
       "25%                   0.000000  ...      67.000000    12.000000      3.000000   \n",
       "50%                   0.000000  ...      69.000000    30.000000      5.000000   \n",
       "75%                  75.000000  ...      70.000000    50.000000      8.000000   \n",
       "max                  98.000000  ...  100000.000000   150.000000     20.000000   \n",
       "\n",
       "       Social network duration min  City population  MIddle and index finger  \\\n",
       "count                 1.860000e+02     1.860000e+02               186.000000   \n",
       "mean                  5.417500e+08     7.946669e+05                 9.741935   \n",
       "std                   7.332267e+09     6.093052e+05                 4.385241   \n",
       "min                   0.000000e+00     1.000000e+00                 0.000000   \n",
       "25%                   1.200000e+02     7.000000e+05                 7.000000   \n",
       "50%                   2.000000e+02     8.000000e+05                10.000000   \n",
       "75%                   3.600000e+02     8.845000e+05                12.000000   \n",
       "max                   1.000000e+11     8.000000e+06                30.000000   \n",
       "\n",
       "       Middle and ring finger  Middle and little finger    Sex_code  \\\n",
       "count              186.000000                186.000000  186.000000   \n",
       "mean                 9.705376                 28.798925    0.354839   \n",
       "std                  6.894963                 19.710011    0.479756   \n",
       "min                  0.000000                  0.000000    0.000000   \n",
       "25%                  6.000000                 20.000000    0.000000   \n",
       "50%                 10.000000                 28.500000    0.000000   \n",
       "75%                 12.000000                 35.000000    1.000000   \n",
       "max                 80.000000                250.000000    1.000000   \n",
       "\n",
       "        Army_code  \n",
       "count  186.000000  \n",
       "mean     0.198925  \n",
       "std      0.400269  \n",
       "min      0.000000  \n",
       "25%      0.000000  \n",
       "50%      0.000000  \n",
       "75%      0.000000  \n",
       "max      1.000000  \n",
       "\n",
       "[8 rows x 35 columns]"
      ]
     },
     "execution_count": 116,
     "metadata": {},
     "output_type": "execute_result"
    }
   ],
   "source": [
    "data.describe()"
   ]
  }
 ],
 "metadata": {
  "kernelspec": {
   "display_name": "base",
   "language": "python",
   "name": "python3"
  },
  "language_info": {
   "codemirror_mode": {
    "name": "ipython",
    "version": 3
   },
   "file_extension": ".py",
   "mimetype": "text/x-python",
   "name": "python",
   "nbconvert_exporter": "python",
   "pygments_lexer": "ipython3",
   "version": "3.11.7"
  }
 },
 "nbformat": 4,
 "nbformat_minor": 2
}
